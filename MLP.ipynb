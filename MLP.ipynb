{
 "cells": [
  {
   "cell_type": "code",
   "execution_count": 1,
   "id": "d430e5a6",
   "metadata": {},
   "outputs": [
    {
     "name": "stdout",
     "output_type": "stream",
     "text": [
      "Collecting smogn\n",
      "  Downloading smogn-0.1.2-py3-none-any.whl.metadata (4.5 kB)\n",
      "Requirement already satisfied: numpy in c:\\users\\21620\\appdata\\roaming\\python\\python312\\site-packages (from smogn) (1.26.4)\n",
      "Requirement already satisfied: pandas in c:\\users\\21620\\appdata\\roaming\\python\\python312\\site-packages (from smogn) (2.2.3)\n",
      "Requirement already satisfied: tqdm in c:\\users\\21620\\appdata\\roaming\\python\\python312\\site-packages (from smogn) (4.66.5)\n",
      "Requirement already satisfied: python-dateutil>=2.8.2 in c:\\users\\21620\\appdata\\roaming\\python\\python312\\site-packages (from pandas->smogn) (2.9.0.post0)\n",
      "Requirement already satisfied: pytz>=2020.1 in c:\\users\\21620\\appdata\\roaming\\python\\python312\\site-packages (from pandas->smogn) (2024.2)\n",
      "Requirement already satisfied: tzdata>=2022.7 in c:\\users\\21620\\appdata\\roaming\\python\\python312\\site-packages (from pandas->smogn) (2024.1)\n",
      "Requirement already satisfied: colorama in c:\\users\\21620\\appdata\\roaming\\python\\python312\\site-packages (from tqdm->smogn) (0.4.6)\n",
      "Requirement already satisfied: six>=1.5 in c:\\users\\21620\\appdata\\roaming\\python\\python312\\site-packages (from python-dateutil>=2.8.2->pandas->smogn) (1.16.0)\n",
      "Downloading smogn-0.1.2-py3-none-any.whl (30 kB)\n",
      "Installing collected packages: smogn\n",
      "Successfully installed smogn-0.1.2\n"
     ]
    }
   ],
   "source": [
    "!pip install smogn\n"
   ]
  },
  {
   "cell_type": "code",
   "execution_count": null,
   "id": "1f1125f6",
   "metadata": {},
   "outputs": [
    {
     "ename": "KeyError",
     "evalue": "'Concrete compressive strength'",
     "output_type": "error",
     "traceback": [
      "\u001b[1;31m---------------------------------------------------------------------------\u001b[0m",
      "\u001b[1;31mKeyError\u001b[0m                                  Traceback (most recent call last)",
      "File \u001b[1;32m~\\AppData\\Roaming\\Python\\Python312\\site-packages\\pandas\\core\\indexes\\base.py:3805\u001b[0m, in \u001b[0;36mIndex.get_loc\u001b[1;34m(self, key)\u001b[0m\n\u001b[0;32m   3804\u001b[0m \u001b[38;5;28;01mtry\u001b[39;00m:\n\u001b[1;32m-> 3805\u001b[0m     \u001b[38;5;28;01mreturn\u001b[39;00m \u001b[38;5;28mself\u001b[39m\u001b[38;5;241m.\u001b[39m_engine\u001b[38;5;241m.\u001b[39mget_loc(casted_key)\n\u001b[0;32m   3806\u001b[0m \u001b[38;5;28;01mexcept\u001b[39;00m \u001b[38;5;167;01mKeyError\u001b[39;00m \u001b[38;5;28;01mas\u001b[39;00m err:\n",
      "File \u001b[1;32mindex.pyx:167\u001b[0m, in \u001b[0;36mpandas._libs.index.IndexEngine.get_loc\u001b[1;34m()\u001b[0m\n",
      "File \u001b[1;32mindex.pyx:196\u001b[0m, in \u001b[0;36mpandas._libs.index.IndexEngine.get_loc\u001b[1;34m()\u001b[0m\n",
      "File \u001b[1;32mpandas\\\\_libs\\\\hashtable_class_helper.pxi:7081\u001b[0m, in \u001b[0;36mpandas._libs.hashtable.PyObjectHashTable.get_item\u001b[1;34m()\u001b[0m\n",
      "File \u001b[1;32mpandas\\\\_libs\\\\hashtable_class_helper.pxi:7089\u001b[0m, in \u001b[0;36mpandas._libs.hashtable.PyObjectHashTable.get_item\u001b[1;34m()\u001b[0m\n",
      "\u001b[1;31mKeyError\u001b[0m: 'Concrete compressive strength'",
      "\nThe above exception was the direct cause of the following exception:\n",
      "\u001b[1;31mKeyError\u001b[0m                                  Traceback (most recent call last)",
      "Cell \u001b[1;32mIn[3], line 20\u001b[0m\n\u001b[0;32m     17\u001b[0m df \u001b[38;5;241m=\u001b[39m df\u001b[38;5;241m.\u001b[39mreset_index(drop\u001b[38;5;241m=\u001b[39m\u001b[38;5;28;01mTrue\u001b[39;00m)\n\u001b[0;32m     19\u001b[0m \u001b[38;5;66;03m# Apply SMOGN for regression-based oversampling\u001b[39;00m\n\u001b[1;32m---> 20\u001b[0m df_augmented \u001b[38;5;241m=\u001b[39m smogn\u001b[38;5;241m.\u001b[39msmoter(\n\u001b[0;32m     21\u001b[0m     data\u001b[38;5;241m=\u001b[39mdf,\n\u001b[0;32m     22\u001b[0m     y\u001b[38;5;241m=\u001b[39m\u001b[38;5;124m'\u001b[39m\u001b[38;5;124mConcrete compressive strength\u001b[39m\u001b[38;5;124m'\u001b[39m,\n\u001b[0;32m     23\u001b[0m     k\u001b[38;5;241m=\u001b[39m\u001b[38;5;241m5\u001b[39m\n\u001b[0;32m     24\u001b[0m )\n\u001b[0;32m     26\u001b[0m \u001b[38;5;66;03m# Features and target\u001b[39;00m\n\u001b[0;32m     27\u001b[0m X \u001b[38;5;241m=\u001b[39m df_augmented\u001b[38;5;241m.\u001b[39mdrop(\u001b[38;5;124m\"\u001b[39m\u001b[38;5;124mConcrete compressive strength\u001b[39m\u001b[38;5;124m\"\u001b[39m, axis\u001b[38;5;241m=\u001b[39m\u001b[38;5;241m1\u001b[39m)\n",
      "File \u001b[1;32mc:\\Users\\21620\\anaconda3\\Lib\\site-packages\\smogn\\smoter.py:137\u001b[0m, in \u001b[0;36msmoter\u001b[1;34m(data, y, k, pert, samp_method, under_samp, drop_na_col, drop_na_row, replace, rel_thres, rel_method, rel_xtrm_type, rel_coef, rel_ctrl_pts_rg)\u001b[0m\n\u001b[0;32m    134\u001b[0m     feat_dtypes_orig[j] \u001b[38;5;241m=\u001b[39m data\u001b[38;5;241m.\u001b[39miloc[:, j]\u001b[38;5;241m.\u001b[39mdtype\n\u001b[0;32m    136\u001b[0m \u001b[38;5;66;03m## determine column position for response variable y\u001b[39;00m\n\u001b[1;32m--> 137\u001b[0m y_col \u001b[38;5;241m=\u001b[39m data\u001b[38;5;241m.\u001b[39mcolumns\u001b[38;5;241m.\u001b[39mget_loc(y)\n\u001b[0;32m    139\u001b[0m \u001b[38;5;66;03m## move response variable y to last column\u001b[39;00m\n\u001b[0;32m    140\u001b[0m \u001b[38;5;28;01mif\u001b[39;00m y_col \u001b[38;5;241m<\u001b[39m d \u001b[38;5;241m-\u001b[39m \u001b[38;5;241m1\u001b[39m:\n",
      "File \u001b[1;32m~\\AppData\\Roaming\\Python\\Python312\\site-packages\\pandas\\core\\indexes\\base.py:3812\u001b[0m, in \u001b[0;36mIndex.get_loc\u001b[1;34m(self, key)\u001b[0m\n\u001b[0;32m   3807\u001b[0m     \u001b[38;5;28;01mif\u001b[39;00m \u001b[38;5;28misinstance\u001b[39m(casted_key, \u001b[38;5;28mslice\u001b[39m) \u001b[38;5;129;01mor\u001b[39;00m (\n\u001b[0;32m   3808\u001b[0m         \u001b[38;5;28misinstance\u001b[39m(casted_key, abc\u001b[38;5;241m.\u001b[39mIterable)\n\u001b[0;32m   3809\u001b[0m         \u001b[38;5;129;01mand\u001b[39;00m \u001b[38;5;28many\u001b[39m(\u001b[38;5;28misinstance\u001b[39m(x, \u001b[38;5;28mslice\u001b[39m) \u001b[38;5;28;01mfor\u001b[39;00m x \u001b[38;5;129;01min\u001b[39;00m casted_key)\n\u001b[0;32m   3810\u001b[0m     ):\n\u001b[0;32m   3811\u001b[0m         \u001b[38;5;28;01mraise\u001b[39;00m InvalidIndexError(key)\n\u001b[1;32m-> 3812\u001b[0m     \u001b[38;5;28;01mraise\u001b[39;00m \u001b[38;5;167;01mKeyError\u001b[39;00m(key) \u001b[38;5;28;01mfrom\u001b[39;00m \u001b[38;5;21;01merr\u001b[39;00m\n\u001b[0;32m   3813\u001b[0m \u001b[38;5;28;01mexcept\u001b[39;00m \u001b[38;5;167;01mTypeError\u001b[39;00m:\n\u001b[0;32m   3814\u001b[0m     \u001b[38;5;66;03m# If we have a listlike key, _check_indexing_error will raise\u001b[39;00m\n\u001b[0;32m   3815\u001b[0m     \u001b[38;5;66;03m#  InvalidIndexError. Otherwise we fall through and re-raise\u001b[39;00m\n\u001b[0;32m   3816\u001b[0m     \u001b[38;5;66;03m#  the TypeError.\u001b[39;00m\n\u001b[0;32m   3817\u001b[0m     \u001b[38;5;28mself\u001b[39m\u001b[38;5;241m.\u001b[39m_check_indexing_error(key)\n",
      "\u001b[1;31mKeyError\u001b[0m: 'Concrete compressive strength'"
     ]
    }
   ],
   "source": [
    "import pandas as pd\n",
    "from sklearn.model_selection import train_test_split\n",
    "from sklearn.preprocessing import StandardScaler\n",
    "import smogn\n",
    "\n",
    "# Load dataset\n",
    "df = pd.read_csv(\"\")\n",
    "\n",
    "# Remove duplicates\n",
    "df = df.drop_duplicates()\n",
    "\n",
    "# Handle missing values (if any)\n",
    "df = df.dropna()  # or df.fillna(method='ffill') / df.fillna(0) depending on context\n",
    "\n",
    "# Reset index after preprocessing to avoid potential index issues\n",
    "df = df.reset_index(drop=True)\n",
    "\n",
    "# Apply SMOGN for regression-based oversampling\n",
    "df_augmented = smogn.smoter(\n",
    "    data=df,\n",
    "    y='Concrete compressive strength',\n",
    "    k=5\n",
    ")\n",
    "\n",
    "# Features and target\n",
    "X = df_augmented.drop(\"Concrete compressive strength\", axis=1)\n",
    "y = df_augmented[\"Concrete compressive strength\"]\n",
    "\n",
    "# Split into training (70%), validation (15%), and test (15%)\n",
    "X_train, X_temp, y_train, y_temp = train_test_split(X, y, test_size=0.3, random_state=42)\n",
    "X_val, X_test, y_val, y_test = train_test_split(X_temp, y_temp, test_size=0.5, random_state=42)\n",
    "\n",
    "# Standardize the data\n",
    "scaler = StandardScaler()\n",
    "X_train_scaled = scaler.fit_transform(X_train)\n",
    "X_val_scaled = scaler.transform(X_val)\n",
    "X_test_scaled = scaler.transform(X_test)\n",
    "\n",
    "# Final shapes\n",
    "print(\"Train:\", X_train_scaled.shape)\n",
    "print(\"Validation:\", X_val_scaled.shape)\n",
    "print(\"Test:\", X_test_scaled.shape)"
   ]
  }
 ],
 "metadata": {
  "kernelspec": {
   "display_name": "base",
   "language": "python",
   "name": "python3"
  },
  "language_info": {
   "codemirror_mode": {
    "name": "ipython",
    "version": 3
   },
   "file_extension": ".py",
   "mimetype": "text/x-python",
   "name": "python",
   "nbconvert_exporter": "python",
   "pygments_lexer": "ipython3",
   "version": "3.12.3"
  }
 },
 "nbformat": 4,
 "nbformat_minor": 5
}
